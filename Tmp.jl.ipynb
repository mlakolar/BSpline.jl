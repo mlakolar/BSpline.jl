{
 "cells": [
  {
   "cell_type": "code",
   "execution_count": 4,
   "metadata": {
    "collapsed": false
   },
   "outputs": [
    {
     "ename": "LoadError",
     "evalue": "syntax: unexpected \"=\"\nwhile loading In[4], in expression starting on line 44",
     "output_type": "error",
     "traceback": [
      "syntax: unexpected \"=\"\nwhile loading In[4], in expression starting on line 44",
      ""
     ]
    }
   ],
   "source": [
    "module Tmp\n",
    "\n",
    "# B-spline basis function value B(j,n) at x.\n",
    "#\n",
    "# Input arguments:\n",
    "# j:\n",
    "#    interval index, 0 =< j < numel(t)-n\n",
    "# n:\n",
    "#    B-spline order (2 for linear, 3 for quadratic, etc.)\n",
    "# t:\n",
    "#    knot vector\n",
    "# x (optional):\n",
    "#    value where the basis function is to be evaluated\n",
    "#\n",
    "# Output arguments:\n",
    "# y:\n",
    "#    B-spline basis function value, nonzero for a knot span of n\n",
    "#\n",
    "# Copyright 2010 Levente Hunyadi\n",
    "#\n",
    "\n",
    "function bspline_basis(j::Int, n::Int, t::Float64, x...)\n",
    "                            \n",
    "    assert( all( t[2:end]-t[1:end-1] .>= 0 ), \"Knot vector values should be nondecreasing.\")\n",
    "    if isempty(x)\n",
    "        x = linspace(t[n], t[end-n+1], 100);  # allocate points uniformly\n",
    "    end\n",
    "    \n",
    "    assert(0 <= j && j < length(t)-n, \n",
    "          @printf(\"Invalid interval index j = %d, expected 0 =< j < %d (0 =< j < numel(t)-n).\", j, numel(t)-n)\n",
    "          )\n",
    "\n",
    "    y = bspline_basis_recurrence(j,n,t,x)\n",
    "end\n",
    "\n",
    "function bspline_basis_recurrence(j::Int,n::Int,t::Float64,x::Float64)\n",
    "\n",
    "    y = zeros(x)\n",
    "\n",
    "    if n > 1\n",
    "        b = bspline_basis(j,n-1,t,x)\n",
    "        dn = x .- t[j+1]\n",
    "        dd = t[j+n] - t[j+1]\n",
    "        if dd ~= 0  # indeterminate forms 0/0 are deemed to be zero\n",
    "            y = y + b.*(dn./dd)\n",
    "        end\n",
    "        \n",
    "        b = bspline_basis(j+1,n-1,t,x)\n",
    "        dn = t[j+n+1] .- x\n",
    "        dd = t[j+n+1] - t[j+1+1]\n",
    "        if dd ~= 0\n",
    "            y = y + b.*(dn./dd)\n",
    "        end\n",
    "    else\n",
    "        y(:) = (t[j+1] .<= x) .&& (x .< t[j+2])\n",
    "    end\n",
    "    \n",
    "    return y\n",
    "end\n",
    "\n",
    "\n",
    "end"
   ]
  },
  {
   "cell_type": "code",
   "execution_count": null,
   "metadata": {
    "collapsed": true
   },
   "outputs": [],
   "source": []
  }
 ],
 "metadata": {
  "kernelspec": {
   "display_name": "Julia 0.3.6",
   "language": "julia",
   "name": "julia 0.3"
  },
  "language_info": {
   "name": "julia",
   "version": "0.3.6"
  }
 },
 "nbformat": 4,
 "nbformat_minor": 0
}
