{
 "metadata": {
  "language": "Julia",
  "name": "",
  "signature": "sha256:93cdd4d0a9bdebe0fabbfb86c313677b47f52ac71f405b2bf7d8004196774038"
 },
 "nbformat": 3,
 "nbformat_minor": 0,
 "worksheets": [
  {
   "cells": [
    {
     "cell_type": "code",
     "collapsed": false,
     "input": [
      "using Convex\n",
      "using Mosek\n",
      "\n",
      "solver = MosekSolver(LOG=1)\n",
      "set_default_solver(solver);"
     ],
     "language": "python",
     "metadata": {},
     "outputs": [],
     "prompt_number": 26
    },
    {
     "cell_type": "code",
     "collapsed": false,
     "input": [
      "x = Variable(4)\n",
      "c = [1; 2; 3; 4]\n",
      "A = eye(4)\n",
      "b = [10; 10; 10; 10]\n",
      "p = minimize(dot(c, x)) # or c' * x\n",
      "p.constraints += A * x <= b\n",
      "p.constraints += [x >= 1; x <= 10; x[2] <= 5; x[1] + x[4] - x[2] <= 10]\n",
      "solve!(p);\n",
      "\n",
      "println(round(p.optval, 2))\n",
      "println(round(x.value, 2))\n",
      "println(evaluate(x[1] + x[4] - x[2]))"
     ],
     "language": "python",
     "metadata": {},
     "outputs": [
      {
       "output_type": "stream",
       "stream": "stdout",
       "text": [
        "10"
       ]
      },
      {
       "output_type": "stream",
       "stream": "stdout",
       "text": [
        ".0\n",
        "["
       ]
      },
      {
       "output_type": "stream",
       "stream": "stdout",
       "text": [
        "1.0\n",
        " 1.0\n",
        " 1.0\n",
        " 1.0]\n"
       ]
      },
      {
       "output_type": "stream",
       "stream": "stdout",
       "text": [
        "[1.0]\n"
       ]
      }
     ],
     "prompt_number": 2
    },
    {
     "cell_type": "code",
     "collapsed": false,
     "input": [
      "n = 200\n",
      "p = 1000\n",
      "s = 10\n",
      "\n",
      "rho = 0.5\n",
      "covMat = rho.^abs([1:p]*ones(p)' - ones(p)*[1:p]')\n",
      "\n",
      "X = randn(n, p) * sqrtm(covMat)\n",
      "true_beta = vcat( (1.+rand(s)) .* (2.*rand(0:1,s).-1), zeros(p-s))\n",
      "Y = X * true_beta + 0.1 .* randn(n)\n",
      "\n",
      "lambda = 0.3\n",
      "theta = Variable(p);\n",
      "prob = minimize(sum_squares(Y-X*theta) / n + lambda * norm(theta, 1))\n",
      "solve!(prob)\n",
      "\n",
      "# @show true_beta[1:s]\n",
      "indZero = abs(theta.value) .< 1e-4;\n",
      "estim_theta = copy(theta.value)\n",
      "#estim_theta[indZero] = 0\n",
      "# @show estim_theta[1:s]'\n",
      "@show find(abs(estim_theta) .> 1e-4);"
     ],
     "language": "python",
     "metadata": {},
     "outputs": [
      {
       "output_type": "stream",
       "stream": "stdout",
       "text": [
        "find(abs(estim_theta) .> 0.0001) => [1,2,3,4,5,6,7,8,9,10,646]"
       ]
      },
      {
       "output_type": "stream",
       "stream": "stdout",
       "text": [
        "\n"
       ]
      }
     ],
     "prompt_number": 3
    },
    {
     "cell_type": "code",
     "collapsed": false,
     "input": [
      "function SoftThreshold(z, lambda)\n",
      "    abs(z) < lambda ? 0. : z > 0 ? z - lambda : z + lambda\n",
      "end\n",
      "\n",
      "@show SoftThreshold(3, 1)\n",
      "@show SoftThreshold(-3, 1)\n",
      "@show SoftThreshold(-0.5, 1);"
     ],
     "language": "python",
     "metadata": {},
     "outputs": [
      {
       "output_type": "stream",
       "stream": "stdout",
       "text": [
        "SoftThreshold(3,1) => 2"
       ]
      },
      {
       "output_type": "stream",
       "stream": "stdout",
       "text": [
        "\n",
        "SoftThreshold(-3,1) => -2\n",
        "SoftThreshold(-0.5,1) => 0.0\n"
       ]
      }
     ],
     "prompt_number": 31
    },
    {
     "cell_type": "code",
     "collapsed": false,
     "input": [
      "function updateBeta!(beta, XtX, Xy, lambda, Ups, active_set, maxIter, optTol)\n",
      "\n",
      "    old_beta = beta[active_set]\n",
      "    iter = 1\n",
      "    while iter <= maxIter\n",
      "        if mod(iter, 100) == 0\n",
      "            @show iter\n",
      "        end            \n",
      "        for j = active_set    \n",
      "            # Compute the Shoot and Update the variable\n",
      "            S0 = 0\n",
      "            for k = active_set\n",
      "                S0 += XtX[j,k]*beta[k]\n",
      "            end\n",
      "            S0 = S0 - XtX[j,j]*beta[j] - Xy[j]\n",
      "            beta[j] = SoftThreshold(-S0 / XtX[j,j], lambda*Ups[j] / XtX[j,j])                   \n",
      "        end        \n",
      "        if maxIter == 1\n",
      "            return beta\n",
      "        end\n",
      "        iter = iter + 1\n",
      "        # Check termination\n",
      "        ind = 0\n",
      "        flag = true\n",
      "        for j=active_set\n",
      "            ind = ind + 1;\n",
      "            if abs(beta[j]-old_beta[ind]) > optTol\n",
      "                flag = false\n",
      "            end\n",
      "            old_beta[ind] = beta[j]\n",
      "        end\n",
      "        if flag\n",
      "            return beta\n",
      "        end\n",
      "    end \n",
      "    \n",
      "    beta\n",
      "end\n",
      "\n",
      "function LassoShooting2(X, y, lambda, Ups, options)    \n",
      "    # process options    \n",
      "    maxIter = 2000\n",
      "    optTol = 1e-3 \n",
      "    \n",
      "    #\n",
      "    n, p = size(X)\n",
      "    \n",
      "    XtX = (X'*X) .* 2 / n\n",
      "    Xy = (X'*y) .* 2 / n\n",
      "    \n",
      "    beta = zeros(p)\n",
      "    active_set = []\n",
      "    tmp = zeros(p)\n",
      "    \n",
      "    iter = 1;\n",
      "    while iter < maxIter    \n",
      "        if mod(iter, 100) == 0\n",
      "            @show \"outer $iter\"\n",
      "        end\n",
      "\n",
      "        old_active_set = copy(active_set)\n",
      "        updateBeta!(beta, XtX, Xy, lambda, Ups, active_set, maxIter, optTol)\n",
      "        active_set = find(abs(beta) .> 1e-5)\n",
      "        \n",
      "        # find thing to insert\n",
      "        val = 0\n",
      "        ind = 0\n",
      "        for j = setdiff([1:p], active_set)\n",
      "            S0 = -Xy[j]\n",
      "            for k = active_set\n",
      "                S0 += XtX[j, k]*beta[k]\n",
      "            end\n",
      "            if abs(S0) > lambda\n",
      "                if abs(S0) > val \n",
      "                    val = abs(S0);\n",
      "                    ind = j;\n",
      "                end\n",
      "            end\n",
      "        end\n",
      "        if ind != 0\n",
      "            push!(active_set, ind)\n",
      "        end\n",
      "        \n",
      "        iter = iter + 1;\n",
      "        if old_active_set == active_set\n",
      "            break\n",
      "        end\n",
      "    end\n",
      "    beta\n",
      "end\n",
      "    "
     ],
     "language": "python",
     "metadata": {},
     "outputs": [
      {
       "metadata": {},
       "output_type": "pyout",
       "prompt_number": 6,
       "text": [
        "LassoShooting2 (generic function with 1 method)"
       ]
      }
     ],
     "prompt_number": 6
    },
    {
     "cell_type": "code",
     "collapsed": false,
     "input": [
      "estim_theta1 = LassoShooting2(X, Y, lambda, ones(p), 1);"
     ],
     "language": "python",
     "metadata": {},
     "outputs": [],
     "prompt_number": 7
    },
    {
     "cell_type": "code",
     "collapsed": false,
     "input": [
      "using GLMNet, Distributions"
     ],
     "language": "python",
     "metadata": {},
     "outputs": [],
     "prompt_number": 9
    },
    {
     "cell_type": "code",
     "collapsed": false,
     "input": [
      "@time estim_theta1 = LassoShooting2(X, Y, lambda, ones(p), 1);\n",
      "@time estim_theta2 = glmnet(X, Y; lambda=[lambda]);"
     ],
     "language": "python",
     "metadata": {},
     "outputs": [
      {
       "output_type": "stream",
       "stream": "stdout",
       "text": [
        "elapsed time: 0."
       ]
      },
      {
       "output_type": "stream",
       "stream": "stdout",
       "text": [
        "058132915 seconds (26295280 bytes allocated)\n",
        "elapsed time: 0.002936381 seconds (1650216 bytes allocated)\n"
       ]
      }
     ],
     "prompt_number": 13
    },
    {
     "cell_type": "code",
     "collapsed": false,
     "input": [
      "@show norm(Y-X*estim_theta1)^2 / n + lambda * norm(estim_theta1, 1);\n",
      "@show norm(Y-X*estim_theta2.betas[:,1])^2 / n + lambda * norm(estim_theta2.betas[:,1], 1);\n",
      "@show norm(Y-X*estim_theta)^2 / n + lambda * norm(estim_theta, 1);"
     ],
     "language": "python",
     "metadata": {},
     "outputs": [
      {
       "output_type": "stream",
       "stream": "stdout",
       "text": [
        "norm(Y - X * estim_theta1)^2 / n + lambda * norm(estim_theta1,1) => 3.68711310525147"
       ]
      },
      {
       "output_type": "stream",
       "stream": "stdout",
       "text": [
        "\n",
        "norm(Y - X * estim_theta2.betas[:,1])^2 / n + lambda * norm(estim_theta2.betas[:,1],1) => 3.9849231400731844\n",
        "norm(Y - X * estim_theta)^2 / n + lambda * norm(estim_theta,1) => 3.687113401863266\n"
       ]
      }
     ],
     "prompt_number": 127
    },
    {
     "cell_type": "code",
     "collapsed": false,
     "input": [
      "unction updateBetaCVX!(beta, XtX, Xy, lambda, Ups, active_set, maxIter, optTol)\n",
      "        \n",
      "    sXtX = XtX[active_set, active_set];\n",
      "    sXy = Xy[active_set]\n",
      "    \n",
      "    theta = Variable(length(active_set));\n",
      "    prob = minimize( (dot(theta, sXtX*theta) - 2 * dot(theta, sXy)) / n + sum(lambda .* Ups .* abs(theta)) )\n",
      "    solve!(prob)\n",
      "    \n",
      "    beta[active_set] = theta.value\n",
      "end\n",
      "\n",
      "function find_active_set!(active_set, XtX, Xy, beta, lambda, Ups)\n",
      "    active_set = find( abs(XtX[:,active_set]*beta[active_set]- 2 .* Xy) / n .> lambda .* Ups )\n",
      "end\n",
      "    \n",
      "function LassoShootingCVX(X, y, lambda, Ups, options)    \n",
      "    # process options    \n",
      "    maxIter = 2000\n",
      "    optTol = 1e-5   \n",
      "    \n",
      "    #\n",
      "    n, p = size(X)\n",
      "    \n",
      "    XtX = (X'*X) .* 2\n",
      "    Xy = (X'*y) .* 2\n",
      "    \n",
      "    beta = zeros(p)\n",
      "    active_set = []\n",
      "    old_active_set = []\n",
      "        \n",
      "    iter = 1;\n",
      "    while iter < maxIter    \n",
      "        if mod(iter, 100) == 0\n",
      "            @show \"outer $iter\"\n",
      "        end        \n",
      "        \n",
      "        find_active_set!(active_set, XtX, Xy, beta, lambda, Ups)        \n",
      "        updateBetaCVX!(beta, XtX, Xy, lambda, Ups, active_set, maxIter, optTol)\n",
      "        \n",
      "        if old_active_set == active_set\n",
      "            break\n",
      "        end\n",
      "        \n",
      "        iter = iter + 1;\n",
      "        old_active_set = copy(active_set)\n",
      "    end\n",
      "    beta\n",
      "end\n",
      "    "
     ],
     "language": "python",
     "metadata": {},
     "outputs": [
      {
       "metadata": {},
       "output_type": "pyout",
       "prompt_number": 16,
       "text": [
        "LassoShootingCVX (generic function with 1 method)"
       ]
      }
     ],
     "prompt_number": 16
    },
    {
     "cell_type": "code",
     "collapsed": false,
     "input": [
      "estim_theta_cvx = LassoShootingCVX(X, Y, lambda, ones(p), 1);"
     ],
     "language": "python",
     "metadata": {},
     "outputs": [
      {
       "output_type": "stream",
       "stream": "stdout",
       "text": [
        "find_active_set!(active_set,XtX,Xy,beta,lambda,Ups) => [1,2,3,4,5,6,7,8,9,10,11,12,13,14,16,17,19,21,22,23,24,25,26,27,28,29,30,31,32,33,34,35,37,38,40,41,42,44,45,46,47,48,49,51,52,54,55,56,59,60,61,62,63,64,65,68,70,71,73,74,75,76,78,79,80,81,82,84,86,87,88,89,90,91,92,93,94,95,96,97,98,99,101,102,103,104,105,107,108,109,111,113,114,117,118,119,120,121,122,123,124,125,126,129,131,132,133,134,135,136,137,139,140,141,142,143,144,145,146,149,150,151,152,154,156,158,159,160,161,162,163,164,165,166,167,168,169,171,173,174,175,176,177,178,179,180,184,185,186,187,188,189,190,192,193,194,195,197,199,200,201,202,203,204,205,206,207,208,209,211,213,214,216,218,219,220,221,222,223,224,226,227,228,230,231,232,233,234,236,237,239,240,242,243,244,245,246,247,248,249,250,251,252,254,255,258,259,260,261,262,263,264,265,268,269,270,271,272,273,274,275,276,277,278,279,280,281,282,283,287,289,290,291,292,293,294,295,296,297,299,301,302,303,304,305,306,308,310,313,314,316,317,319,321,322,323,324,326,327,328,329,330,331,332,333,334,335,336,338,339,340,341,342,343,344,347,348,349,350,351,352,353,354,357,358,360,361,362,363,364,365,366,368,369,370,371,372,373,378,379,380,384,385,386,388,389,390,391,392,393,395,396,397,399,400,401,402,403,404,405,406,407,408,409,410,412,413,414,415,416,417,418,420,421,422,423,424,425,426,427,428,429,430,431,432,433,434,435,436,437,438,439,440,442,443,444,449,450,451,452,453,454,455,456,457,459,460,461,463,464,465,467,468,469,472,473,474,475,477,478,479,482,483,485,486,487,488,489,490,491,492,493,494,496,498,499,500,501,502,503,504,506,508,509,510,511,512,513,514,517,519,520,521,523,525,526,527,528,530,531,532,533,534,535,536,537,538,539,540,541,542,543,544,545,546,547,548,549,550,552,553,554,555,556,557,558,559,560,561,562,563,564,565,566,568,569,570,571,572,573,574,575,576,577,579,581,583,584,585,586,587,588,589,590,591,593,594,595,596,597,598,600,601,602,603,605,606,607,608,610,611,612,613,614,615,617,621,623,624,625,626,629,630,631,632,633,634,635,636,637,638,640,641,642,643,644,645,647,648,649,650,651,652,655,656,657,659,660,661,662,663,664,666,668,669,670,671,673,674,675,676,677,678,679,681,683,684,685,686,688,689,690,691,693,694,695,696,697,698,699,700,701,702,703,704,705,706,707,709,711,712,714,715,716,717,718,719,720,722,724,726,727,728,729,730,731,732,733,735,736,739,740,741,742,743,744,745,747,748,749,750,751,752,753,755,756,758,759,760,761,763,764,765,766,767,768,769,770,771,772,773,774,775,776,777,778,779,781,782,783,784,785,787,788,789,790,791,793,794,795,796,797,798,799,800,801,802,804,806,808,810,811,813,814,815,816,817,818,819,820,821,822,824,825,828,829,830,831,833,834,836,837,839,840,841,842,843,844,845,846,848,849,850,851,852,853,854,855,856,858,859,860,861,863,864,866,867,868,869,870,871,872,875,876,878,880,882,883,884,885,886,887,888,889,890,891,892,893,894,895,896,898,900,901,902,904,905,906,907,908,909,910,911,912,913,916,917,918,919,920,921,922,924,925,926,930,933,934,935,936,937,938,939,940,941,942,943,944,945,946,948,949,951,952,953,954,955,956,957,959,960,961,963,964,965,966,967,968,969,970,971,972,973,975,976,977,979,982,983,984,985,986,987,988,990,991,992,995,996,997,998,999,1000]"
       ]
      },
      {
       "output_type": "stream",
       "stream": "stdout",
       "text": [
        "\n"
       ]
      },
      {
       "ename": "LoadError",
       "evalue": "Cannot dot multiply two expressions of sizes (1000,1) and (0,1)\nwhile loading In[17], in expression starting on line 1",
       "output_type": "pyerr",
       "traceback": [
        "Cannot dot multiply two expressions of sizes (1000,1) and (0,1)\nwhile loading In[17], in expression starting on line 1",
        "",
        " in error at error.jl:21",
        " in DotMultiplyAtom at /home/mkolar/.julia/v0.3/Convex/src/atoms/affine/multiply_divide.jl:116",
        " in .* at /home/mkolar/.julia/v0.3/Convex/src/atoms/affine/multiply_divide.jl:150",
        " in updateBetaCVX! at In[16]:7",
        " in LassoShootingCVX at In[16]:39"
       ]
      }
     ],
     "prompt_number": 17
    },
    {
     "cell_type": "code",
     "collapsed": false,
     "input": [
      "@show norm(Y-X*estim_theta)^2 / n + lambda * norm(estim_theta, 1);"
     ],
     "language": "python",
     "metadata": {},
     "outputs": [
      {
       "metadata": {},
       "output_type": "pyout",
       "prompt_number": 14,
       "text": [
        "3"
       ]
      }
     ],
     "prompt_number": 14
    },
    {
     "cell_type": "code",
     "collapsed": false,
     "input": [
      "a = [1,2,3]\n",
      "b = [1,2,3]\n",
      "a == b"
     ],
     "language": "python",
     "metadata": {},
     "outputs": [
      {
       "metadata": {},
       "output_type": "pyout",
       "prompt_number": 10,
       "text": [
        "true"
       ]
      }
     ],
     "prompt_number": 10
    },
    {
     "cell_type": "code",
     "collapsed": false,
     "input": [
      "XtX = X'*X;\n",
      "Xy = X'*Y;\n"
     ],
     "language": "python",
     "metadata": {},
     "outputs": [],
     "prompt_number": 21
    },
    {
     "cell_type": "code",
     "collapsed": false,
     "input": [
      "ols_beta = XtX \\ Xy\n",
      "find( 2 * abs(XtX * ols_beta - Xy) / n .> lambda ) "
     ],
     "language": "python",
     "metadata": {},
     "outputs": [
      {
       "metadata": {},
       "output_type": "pyout",
       "prompt_number": 22,
       "text": [
        "0-element Array{Int64,1}"
       ]
      }
     ],
     "prompt_number": 22
    },
    {
     "cell_type": "code",
     "collapsed": false,
     "input": [
      "a = [1:10]\n",
      "b = [1:5]\n",
      "setdiff(a,b)"
     ],
     "language": "python",
     "metadata": {},
     "outputs": [
      {
       "metadata": {},
       "output_type": "pyout",
       "prompt_number": 83,
       "text": [
        "5-element Array{Int64,1}:\n",
        "  6\n",
        "  7\n",
        "  8\n",
        "  9\n",
        " 10"
       ]
      }
     ],
     "prompt_number": 83
    },
    {
     "cell_type": "code",
     "collapsed": false,
     "input": [
      "!isempty([])"
     ],
     "language": "python",
     "metadata": {},
     "outputs": [
      {
       "metadata": {},
       "output_type": "pyout",
       "prompt_number": 84,
       "text": [
        "false"
       ]
      }
     ],
     "prompt_number": 84
    },
    {
     "cell_type": "markdown",
     "metadata": {},
     "source": [
      "## Difference between two covariance matrices\n",
      "\n",
      "Generate Data"
     ]
    },
    {
     "cell_type": "code",
     "collapsed": false,
     "input": [
      "p = 30\n",
      "Sigmax = eye(p,p)\n",
      "Sigmay = eye(p,p)\n",
      "Sigmay[1,2] = 0.5\n",
      "Sigmay[2,1] = 0.5\n",
      "\n",
      "sqmy = sqrtm(Sigmay)\n",
      "\n",
      "n = 1000\n",
      "X = randn(n,p)\n",
      "Y = randn(n,p) * sqmy;"
     ],
     "language": "python",
     "metadata": {},
     "outputs": [],
     "prompt_number": 27
    },
    {
     "cell_type": "code",
     "collapsed": false,
     "input": [
      "hSx = cov(X, corrected=false)\n",
      "hSy = cov(Y, corrected=false);"
     ],
     "language": "python",
     "metadata": {},
     "outputs": [],
     "prompt_number": 28
    },
    {
     "cell_type": "code",
     "collapsed": false,
     "input": [
      "lambda = 0.3\n",
      "\n",
      "Delta = Variable(p,p);\n",
      "prob = minimize(quad_form(vec(Delta), kron(hSy,hSx)) / 2 - trace((hSy-hSx)*Delta) +  lambda * norm(vec(Delta), 1))\n",
      "prob.constraints += [Delta == Delta']\n",
      "@time solve!(prob)\n"
     ],
     "language": "python",
     "metadata": {},
     "outputs": [
      {
       "output_type": "stream",
       "stream": "stdout",
       "text": [
        "Computer\n",
        "  Platform               : Linux/64-X86    \n"
       ]
      },
      {
       "output_type": "stream",
       "stream": "stdout",
       "text": [
        "  Cores                  : 2               \n",
        "\n",
        "Problem\n",
        "  Name                   :                 \n",
        "  Objective sense        : min             \n",
        "  Type                   : CONIC (conic optimization problem)\n",
        "  Constraints            : 3606            \n",
        "  Cones                  : 2               \n",
        "  Scalar variables       : 2707            \n",
        "  Matrix variables       : 0               \n",
        "  Integer variables      : 0               \n",
        "\n",
        "Optimizer started.\n",
        "Conic interior-point optimizer started.\n",
        "Presolve started.\n",
        "Linear dependency checker started.\n",
        "Linear dependency checker terminated.\n"
       ]
      },
      {
       "output_type": "stream",
       "stream": "stdout",
       "text": [
        "Eliminator started.\n",
        "Total number of eliminations : 901\n",
        "Eliminator terminated.\n",
        "Eliminator started.\n"
       ]
      },
      {
       "output_type": "stream",
       "stream": "stdout",
       "text": [
        "Total number of eliminations : 901\n",
        "Eliminator terminated.\n",
        "Eliminator - tries                  : 2                 time                   : 0.00            \n",
        "Eliminator - elim's                 : 901             \n",
        "Lin. dep.  - tries                  : 1                 time                   : 0.01            \n",
        "Lin. dep.  - number                 : 0               \n",
        "Presolve terminated. Time: 0.27    \n",
        "Optimizer  - threads                : 2               \n"
       ]
      },
      {
       "output_type": "stream",
       "stream": "stdout",
       "text": [
        "Optimizer  - solved problem         : the primal      \n",
        "Optimizer  - Constraints            : 2215\n",
        "Optimizer  - Cones                  : 2\n",
        "Optimizer  - Scalar variables       : 3583              conic                  : 904             \n",
        "Optimizer  - Semi-definite variables: 0                 scalarized             : 0               \n",
        "Factor     - setup time             : 0.82              dense det. time        : 0.07            \n",
        "Factor     - ML order time          : 0.00              GP order time          : 0.00            \n",
        "Factor     - nonzeros before factor : 7.98e+05          after factor           : 1.19e+06        \n",
        "Factor     - dense dim.             : 881               flops                  : 9.30e+08        \n",
        "ITE PFEAS    DFEAS    GFEAS    PRSTATUS   POBJ              DOBJ              MU       TIME  \n",
        "0   7.5e-01  1.0e+00  2.7e+02  0.00e+00   1.081500000e+03   -5.000000000e-01  1.0e+00  1.15  \n",
        "1   7.2e-01  9.7e-01  2.6e+02  5.60e+00   9.815082467e+02   -4.917901243e-01  9.7e-01  1.25  \n"
       ]
      },
      {
       "output_type": "stream",
       "stream": "stdout",
       "text": [
        "2   7.1e-01  9.5e-01  2.6e+02  5.26e+00   9.382907188e+02   -1.043421819e+00  9.5e-01  1.36  \n"
       ]
      },
      {
       "output_type": "stream",
       "stream": "stdout",
       "text": [
        "3   7.1e-01  9.5e-01  2.6e+02  5.14e+00   9.215084446e+02   -1.288816391e+00  9.5e-01  1.46  \n"
       ]
      },
      {
       "output_type": "stream",
       "stream": "stdout",
       "text": [
        "4   7.1e-01  9.5e-01  2.6e+02  5.08e+00   9.142070982e+02   -1.404111181e+00  9.5e-01  1.57  \n"
       ]
      },
      {
       "output_type": "stream",
       "stream": "stdout",
       "text": [
        "5   7.1e-01  9.4e-01  2.6e+02  5.05e+00   9.093791252e+02   -1.482775252e+00  9.4e-01  1.68  \n"
       ]
      },
      {
       "output_type": "stream",
       "stream": "stdout",
       "text": [
        "6   7.1e-01  9.4e-01  2.6e+02  5.04e+00   9.050400823e+02   -1.554376240e+00  9.4e-01  1.78  \n"
       ]
      },
      {
       "output_type": "stream",
       "stream": "stdout",
       "text": [
        "7   7.1e-01  9.4e-01  2.6e+02  5.02e+00   9.008121654e+02   -1.624607856e+00  9.4e-01  1.94  \n"
       ]
      },
      {
       "output_type": "stream",
       "stream": "stdout",
       "text": [
        "8   7.0e-01  9.4e-01  2.6e+02  5.01e+00   8.966396322e+02   -1.694272468e+00  9.4e-01  2.08  \n"
       ]
      },
      {
       "output_type": "stream",
       "stream": "stdout",
       "text": [
        "9   7.0e-01  9.4e-01  2.5e+02  4.99e+00   8.925131589e+02   -1.763479576e+00  9.4e-01  2.18  \n"
       ]
      },
      {
       "output_type": "stream",
       "stream": "stdout",
       "text": [
        "10  7.0e-01  9.4e-01  2.5e+02  4.98e+00   8.884297037e+02   -1.832250171e+00  9.4e-01  2.29  \n"
       ]
      },
      {
       "output_type": "stream",
       "stream": "stdout",
       "text": [
        "11  7.0e-01  9.4e-01  2.5e+02  4.96e+00   8.843982836e+02   -1.900339372e+00  9.4e-01  2.39  \n"
       ]
      },
      {
       "output_type": "stream",
       "stream": "stdout",
       "text": [
        "12  7.0e-01  9.3e-01  2.5e+02  4.95e+00   8.805362155e+02   -1.967155204e+00  9.3e-01  2.53  \n"
       ]
      },
      {
       "output_type": "stream",
       "stream": "stdout",
       "text": [
        "13  7.0e-01  9.3e-01  2.5e+02  4.93e+00   8.784070546e+02   -1.992704497e+00  9.3e-01  2.71  \n"
       ]
      },
      {
       "output_type": "stream",
       "stream": "stdout",
       "text": [
        "14  7.0e-01  9.3e-01  2.5e+02  4.93e+00   8.743528038e+02   -2.096380002e+00  9.3e-01  2.82  \n"
       ]
      },
      {
       "output_type": "stream",
       "stream": "stdout",
       "text": [
        "15  7.0e-01  9.3e-01  2.5e+02  4.91e+00   8.706050202e+02   -2.106345119e+00  9.3e-01  2.92  \n",
        "16  7.0e-01  9.3e-01  2.5e+02  4.89e+00   8.618002351e+02   -2.309528986e+00  9.3e-01  3.00  \n"
       ]
      },
      {
       "output_type": "stream",
       "stream": "stdout",
       "text": [
        "17  6.9e-01  9.3e-01  2.5e+02  4.87e+00   8.556885278e+02   -2.369838263e+00  9.3e-01  3.11  \n"
       ]
      },
      {
       "output_type": "stream",
       "stream": "stdout",
       "text": [
        "18  6.9e-01  9.2e-01  2.5e+02  4.83e+00   8.491151023e+02   -2.507920497e+00  9.2e-01  3.21  \n"
       ]
      },
      {
       "output_type": "stream",
       "stream": "stdout",
       "text": [
        "19  6.9e-01  9.2e-01  2.5e+02  4.81e+00   8.454205748e+02   -2.548148922e+00  9.2e-01  3.32  \n"
       ]
      },
      {
       "output_type": "stream",
       "stream": "stdout",
       "text": [
        "20  6.9e-01  9.2e-01  2.5e+02  4.80e+00   8.402064100e+02   -2.672584603e+00  9.2e-01  3.43  \n"
       ]
      },
      {
       "output_type": "stream",
       "stream": "stdout",
       "text": [
        "21  6.9e-01  9.2e-01  2.5e+02  4.78e+00   8.360487956e+02   -2.699096929e+00  9.2e-01  3.53  \n"
       ]
      },
      {
       "output_type": "stream",
       "stream": "stdout",
       "text": [
        "22  6.9e-01  9.2e-01  2.5e+02  4.76e+00   8.288371125e+02   -2.867584437e+00  9.2e-01  3.64  \n"
       ]
      },
      {
       "output_type": "stream",
       "stream": "stdout",
       "text": [
        "23  6.9e-01  9.2e-01  2.5e+02  4.73e+00   8.237082512e+02   -2.913271337e+00  9.2e-01  3.74  \n"
       ]
      },
      {
       "output_type": "stream",
       "stream": "stdout",
       "text": [
        "24  6.8e-01  9.1e-01  2.5e+02  4.71e+00   8.172517030e+02   -3.057058326e+00  9.1e-01  3.90  \n"
       ]
      },
      {
       "output_type": "stream",
       "stream": "stdout",
       "text": [
        "25  6.8e-01  9.1e-01  2.5e+02  4.69e+00   8.130941871e+02   -3.095304504e+00  9.1e-01  4.05  \n"
       ]
      },
      {
       "output_type": "stream",
       "stream": "stdout",
       "text": [
        "26  6.8e-01  9.1e-01  2.5e+02  4.67e+00   8.073215510e+02   -3.230682739e+00  9.1e-01  4.18  \n"
       ]
      },
      {
       "output_type": "stream",
       "stream": "stdout",
       "text": [
        "27  6.8e-01  9.1e-01  2.5e+02  4.65e+00   8.029579889e+02   -3.262511706e+00  9.1e-01  4.29  \n"
       ]
      },
      {
       "output_type": "stream",
       "stream": "stdout",
       "text": [
        "28  6.8e-01  9.1e-01  2.5e+02  4.62e+00   7.963470850e+02   -3.415263777e+00  9.1e-01  4.40  \n"
       ]
      },
      {
       "output_type": "stream",
       "stream": "stdout",
       "text": [
        "29  6.8e-01  9.0e-01  2.5e+02  4.60e+00   7.915937999e+02   -3.454727571e+00  9.0e-01  4.50  \n"
       ]
      },
      {
       "output_type": "stream",
       "stream": "stdout",
       "text": [
        "30  6.8e-01  9.0e-01  2.4e+02  4.58e+00   7.854604884e+02   -3.591623606e+00  9.0e-01  4.61  \n"
       ]
      },
      {
       "output_type": "stream",
       "stream": "stdout",
       "text": [
        "31  6.7e-01  9.0e-01  2.4e+02  4.56e+00   7.812545271e+02   -3.626495673e+00  9.0e-01  4.72  \n"
       ]
      },
      {
       "output_type": "stream",
       "stream": "stdout",
       "text": [
        "32  6.7e-01  9.0e-01  2.4e+02  4.53e+00   7.756032413e+02   -3.754643502e+00  9.0e-01  4.82  \n"
       ]
      },
      {
       "output_type": "stream",
       "stream": "stdout",
       "text": [
        "33  6.7e-01  9.0e-01  2.4e+02  4.51e+00   7.713582522e+02   -3.785690713e+00  9.0e-01  4.93  \n"
       ]
      },
      {
       "output_type": "stream",
       "stream": "stdout",
       "text": [
        "34  6.7e-01  8.9e-01  2.4e+02  4.49e+00   7.655942692e+02   -3.912179356e+00  8.9e-01  5.03  \n"
       ]
      },
      {
       "output_type": "stream",
       "stream": "stdout",
       "text": [
        "35  6.7e-01  8.9e-01  2.4e+02  4.47e+00   7.614642959e+02   -3.945131115e+00  8.9e-01  5.14  \n"
       ]
      },
      {
       "output_type": "stream",
       "stream": "stdout",
       "text": [
        "36  6.7e-01  8.9e-01  2.4e+02  4.45e+00   7.566530406e+02   -4.046545813e+00  8.9e-01  5.24  \n"
       ]
      },
      {
       "output_type": "stream",
       "stream": "stdout",
       "text": [
        "37  6.7e-01  8.9e-01  2.4e+02  4.43e+00   7.533181105e+02   -4.071707209e+00  8.9e-01  5.35  \n"
       ]
      },
      {
       "output_type": "stream",
       "stream": "stdout",
       "text": [
        "38  6.7e-01  8.9e-01  2.4e+02  4.42e+00   7.490059052e+02   -4.162097758e+00  8.9e-01  5.46  \n"
       ]
      },
      {
       "output_type": "stream",
       "stream": "stdout",
       "text": [
        "39  6.6e-01  8.9e-01  2.4e+02  4.40e+00   7.459614122e+02   -4.183060709e+00  8.9e-01  5.56  \n"
       ]
      },
      {
       "output_type": "stream",
       "stream": "stdout",
       "text": [
        "40  6.6e-01  8.8e-01  2.4e+02  4.39e+00   7.417228810e+02   -4.273089948e+00  8.8e-01  5.67  \n"
       ]
      },
      {
       "output_type": "stream",
       "stream": "stdout",
       "text": [
        "41  6.6e-01  8.8e-01  2.4e+02  4.37e+00   7.385811170e+02   -4.293034774e+00  8.8e-01  5.77  \n"
       ]
      },
      {
       "output_type": "stream",
       "stream": "stdout",
       "text": [
        "42  6.6e-01  8.8e-01  2.4e+02  4.35e+00   7.341448271e+02   -4.386681292e+00  8.8e-01  5.88  \n"
       ]
      },
      {
       "output_type": "stream",
       "stream": "stdout",
       "text": [
        "43  6.6e-01  8.8e-01  2.4e+02  4.34e+00   7.309078323e+02   -4.407801402e+00  8.8e-01  5.98  \n"
       ]
      },
      {
       "output_type": "stream",
       "stream": "stdout",
       "text": [
        "44  6.6e-01  8.8e-01  2.4e+02  4.32e+00   7.264633316e+02   -4.500974328e+00  8.8e-01  6.09  \n"
       ]
      },
      {
       "output_type": "stream",
       "stream": "stdout",
       "text": [
        "45  6.6e-01  8.8e-01  2.4e+02  4.31e+00   7.233363468e+02   -4.519197880e+00  8.8e-01  6.19  \n"
       ]
      },
      {
       "output_type": "stream",
       "stream": "stdout",
       "text": [
        "46  6.6e-01  8.7e-01  2.4e+02  4.29e+00   7.182551372e+02   -4.634171416e+00  8.7e-01  6.30  \n"
       ]
      },
      {
       "output_type": "stream",
       "stream": "stdout",
       "text": [
        "47  6.5e-01  8.7e-01  2.4e+02  4.27e+00   7.141897101e+02   -4.652633610e+00  8.7e-01  6.40  \n"
       ]
      },
      {
       "output_type": "stream",
       "stream": "stdout",
       "text": [
        "48  6.5e-01  8.7e-01  2.4e+02  4.25e+00   7.072645768e+02   -4.806934510e+00  8.7e-01  6.50  \n"
       ]
      },
      {
       "output_type": "stream",
       "stream": "stdout",
       "text": [
        "49  6.5e-01  8.7e-01  2.4e+02  4.22e+00   7.021581630e+02   -4.839573576e+00  8.7e-01  6.61  \n"
       ]
      },
      {
       "output_type": "stream",
       "stream": "stdout",
       "text": [
        "50  6.5e-01  8.6e-01  2.3e+02  4.20e+00   6.949809503e+02   -4.997897331e+00  8.6e-01  6.72  \n"
       ]
      },
      {
       "output_type": "stream",
       "stream": "stdout",
       "text": [
        "51  6.5e-01  8.6e-01  2.3e+02  4.17e+00   6.897993900e+02   -5.029545020e+00  8.6e-01  6.82  \n"
       ]
      },
      {
       "output_type": "stream",
       "stream": "stdout",
       "text": [
        "52  6.4e-01  8.6e-01  2.3e+02  4.14e+00   6.819212568e+02   -5.210582052e+00  8.6e-01  6.93  \n"
       ]
      },
      {
       "output_type": "stream",
       "stream": "stdout",
       "text": [
        "53  6.4e-01  8.5e-01  2.3e+02  4.11e+00   6.757699614e+02   -5.243281865e+00  8.5e-01  7.03  \n"
       ]
      },
      {
       "output_type": "stream",
       "stream": "stdout",
       "text": [
        "54  6.4e-01  8.5e-01  2.3e+02  4.08e+00   6.662512011e+02   -5.459567679e+00  8.5e-01  7.14  \n"
       ]
      },
      {
       "output_type": "stream",
       "stream": "stdout",
       "text": [
        "55  6.4e-01  8.5e-01  2.3e+02  4.05e+00   6.591066941e+02   -5.501885585e+00  8.5e-01  7.24  \n"
       ]
      },
      {
       "output_type": "stream",
       "stream": "stdout",
       "text": [
        "56  6.3e-01  8.4e-01  2.3e+02  4.01e+00   6.488339813e+02   -5.732859785e+00  8.4e-01  7.35  \n"
       ]
      },
      {
       "output_type": "stream",
       "stream": "stdout",
       "text": [
        "57  6.3e-01  8.4e-01  2.3e+02  3.97e+00   6.411464601e+02   -5.775020819e+00  8.4e-01  7.45  \n"
       ]
      },
      {
       "output_type": "stream",
       "stream": "stdout",
       "text": [
        "58  6.2e-01  8.3e-01  2.3e+02  3.93e+00   6.296169151e+02   -6.036327236e+00  8.3e-01  7.56  \n"
       ]
      },
      {
       "output_type": "stream",
       "stream": "stdout",
       "text": [
        "59  6.2e-01  8.3e-01  2.2e+02  3.89e+00   6.206599550e+02   -6.079156598e+00  8.3e-01  7.66  \n"
       ]
      },
      {
       "output_type": "stream",
       "stream": "stdout",
       "text": [
        "60  6.2e-01  8.2e-01  2.2e+02  3.83e+00   6.069618515e+02   -6.384545073e+00  8.2e-01  7.76  \n"
       ]
      },
      {
       "output_type": "stream",
       "stream": "stdout",
       "text": [
        "61  6.1e-01  8.1e-01  2.2e+02  3.79e+00   5.963871979e+02   -6.432385187e+00  8.1e-01  7.94  \n"
       ]
      },
      {
       "output_type": "stream",
       "stream": "stdout",
       "text": [
        "62  6.0e-01  8.1e-01  2.2e+02  3.73e+00   5.803918855e+02   -6.780652211e+00  8.1e-01  8.10  \n"
       ]
      },
      {
       "output_type": "stream",
       "stream": "stdout",
       "text": [
        "63  6.0e-01  8.0e-01  2.2e+02  3.67e+00   5.679481973e+02   -6.827351054e+00  8.0e-01  8.23  \n"
       ]
      },
      {
       "output_type": "stream",
       "stream": "stdout",
       "text": [
        "64  5.9e-01  7.9e-01  2.1e+02  3.60e+00   5.484919017e+02   -7.239795622e+00  7.9e-01  8.35  \n"
       ]
      },
      {
       "output_type": "stream",
       "stream": "stdout",
       "text": [
        "65  5.8e-01  7.8e-01  2.1e+02  3.52e+00   5.329695029e+02   -7.280697977e+00  7.8e-01  8.48  \n"
       ]
      },
      {
       "output_type": "stream",
       "stream": "stdout",
       "text": [
        "66  5.7e-01  7.6e-01  2.1e+02  3.44e+00   5.076848243e+02   -7.789789124e+00  7.6e-01  8.61  \n"
       ]
      },
      {
       "output_type": "stream",
       "stream": "stdout",
       "text": [
        "67  5.6e-01  7.5e-01  2.0e+02  3.34e+00   4.870520183e+02   -7.814521204e+00  7.5e-01  8.73  \n"
       ]
      },
      {
       "output_type": "stream",
       "stream": "stdout",
       "text": [
        "68  5.4e-01  7.2e-01  2.0e+02  3.23e+00   4.514575907e+02   -8.467806640e+00  7.2e-01  8.86  \n"
       ]
      },
      {
       "output_type": "stream",
       "stream": "stdout",
       "text": [
        "69  5.2e-01  7.0e-01  1.9e+02  3.08e+00   4.209734193e+02   -8.426215340e+00  7.0e-01  8.99  \n"
       ]
      },
      {
       "output_type": "stream",
       "stream": "stdout",
       "text": [
        "70  4.8e-01  6.5e-01  1.8e+02  2.92e+00   3.601784197e+02   -9.338901678e+00  6.5e-01  9.11  \n"
       ]
      },
      {
       "output_type": "stream",
       "stream": "stdout",
       "text": [
        "71  4.4e-01  5.8e-01  1.6e+02  2.66e+00   2.995713545e+02   -8.881995236e+00  5.8e-01  9.24  \n"
       ]
      },
      {
       "output_type": "stream",
       "stream": "stdout",
       "text": [
        "72  1.5e-01  2.0e-01  5.5e+01  2.33e+00   6.459098442e+01   -1.012209685e+01  2.0e-01  9.44  \n"
       ]
      },
      {
       "output_type": "stream",
       "stream": "stdout",
       "text": [
        "73  1.3e-01  1.7e-01  4.7e+01  1.22e+00   6.289497956e+01   -4.925987354e+00  1.7e-01  9.55  \n"
       ]
      },
      {
       "output_type": "stream",
       "stream": "stdout",
       "text": [
        "74  6.9e-02  9.2e-02  2.5e+01  1.22e+00   2.799622866e+01   -5.460837129e+00  9.2e-02  9.66  \n"
       ]
      },
      {
       "output_type": "stream",
       "stream": "stdout",
       "text": [
        "75  2.3e-02  3.1e-02  8.5e+00  9.53e-01   1.116270598e+01   -9.368278455e-01  3.1e-02  9.83  \n"
       ]
      },
      {
       "output_type": "stream",
       "stream": "stdout",
       "text": [
        "76  6.4e-03  8.6e-03  2.3e+00  9.41e-01   3.079981689e+00   -3.055610861e-01  8.6e-03  9.94  \n"
       ]
      },
      {
       "output_type": "stream",
       "stream": "stdout",
       "text": [
        "77  1.1e-03  1.4e-03  3.8e-01  9.62e-01   4.887390518e-01   -7.836363490e-02  1.4e-03  10.09 \n"
       ]
      },
      {
       "output_type": "stream",
       "stream": "stdout",
       "text": [
        "78  8.1e-05  1.1e-04  2.9e-02  9.94e-01   -1.691768071e-02  -6.057044959e-02  1.1e-04  10.21 \n"
       ]
      },
      {
       "output_type": "stream",
       "stream": "stdout",
       "text": [
        "79  4.2e-06  5.6e-06  1.5e-03  1.00e+00   -5.719967272e-02  -5.945064295e-02  5.6e-06  10.32 \n"
       ]
      },
      {
       "output_type": "stream",
       "stream": "stdout",
       "text": [
        "80  2.7e-07  3.6e-07  9.7e-05  1.00e+00   -5.924088679e-02  -5.938569243e-02  3.6e-07  10.43 \n"
       ]
      },
      {
       "output_type": "stream",
       "stream": "stdout",
       "text": [
        "81  1.1e-07  1.5e-07  4.1e-05  1.00e+00   -5.932183467e-02  -5.938252800e-02  1.5e-07  10.53 \n"
       ]
      },
      {
       "output_type": "stream",
       "stream": "stdout",
       "text": [
        "82  1.1e-07  1.5e-07  4.0e-05  1.00e+00   -5.932309611e-02  -5.938246809e-02  1.5e-07  10.64 \n"
       ]
      },
      {
       "output_type": "stream",
       "stream": "stdout",
       "text": [
        "83  6.5e-08  8.6e-08  2.3e-05  1.00e+00   -5.934663797e-02  -5.938162692e-02  8.8e-08  10.78 \n"
       ]
      },
      {
       "output_type": "stream",
       "stream": "stdout",
       "text": [
        "84  6.5e-08  8.6e-08  2.3e-05  1.00e+00   -5.934663801e-02  -5.938162692e-02  8.8e-08  10.93 \n"
       ]
      },
      {
       "output_type": "stream",
       "stream": "stdout",
       "text": [
        "85  6.5e-08  8.6e-08  2.3e-05  1.00e+00   -5.934663826e-02  -5.938162691e-02  8.8e-08  11.10 \n"
       ]
      },
      {
       "output_type": "stream",
       "stream": "stdout",
       "text": [
        "86  6.5e-08  8.6e-08  2.3e-05  1.00e+00   -5.934663826e-02  -5.938162691e-02  8.8e-08  11.24 \n"
       ]
      },
      {
       "output_type": "stream",
       "stream": "stdout",
       "text": [
        "Interior-point optimizer terminated. Time: 11.24. \n",
        "\n",
        "Optimizer terminated. Time: 11.26   \n",
        "elapsed time: 11.916522353 seconds (430424544 bytes allocated, 1.90% gc time)\n"
       ]
      }
     ],
     "prompt_number": 50
    },
    {
     "cell_type": "code",
     "collapsed": false,
     "input": [
      "sol = Delta.value"
     ],
     "language": "python",
     "metadata": {},
     "outputs": [
      {
       "metadata": {},
       "output_type": "pyout",
       "prompt_number": 51,
       "text": [
        "30x30 Array{Float64,2}:\n",
        " -9.59284e-8  0.240085    7.5175e-8   \u2026  1.18136e-7  1.66789e-7  1.47534e-7\n",
        "  0.240085    8.88055e-8  8.72814e-8     1.31535e-7  1.29293e-7  1.08434e-7\n",
        "  7.51865e-8  8.72829e-8  2.7547e-7      1.15617e-7  1.39377e-7  1.9015e-7 \n",
        "  1.31885e-7  1.31411e-7  1.61083e-7     1.59459e-7  1.54607e-7  9.48611e-8\n",
        "  1.28171e-7  2.14173e-7  1.60773e-7     1.43005e-7  7.36466e-8  1.27302e-7\n",
        "  1.23375e-7  1.73895e-7  1.38154e-7  \u2026  1.39624e-7  1.25411e-7  1.08403e-7\n",
        "  8.92804e-8  1.64808e-7  5.60161e-8     1.10571e-7  2.09443e-7  1.17589e-7\n",
        "  9.57003e-8  1.20213e-7  1.41073e-7     1.45093e-7  1.33779e-7  1.17753e-7\n",
        "  1.67533e-7  1.25296e-7  7.25782e-8     1.53575e-7  1.48793e-7  1.20178e-7\n",
        "  1.29106e-7  8.9745e-8   1.55156e-7     1.33964e-7  1.57103e-7  1.76454e-7\n",
        "  1.34059e-7  1.58803e-7  1.85296e-7  \u2026  1.47101e-7  1.25786e-7  1.64996e-7\n",
        "  8.47167e-8  9.44246e-8  1.45043e-7     1.35374e-7  8.27099e-8  1.3098e-7 \n",
        "  1.88174e-7  1.73255e-7  1.33911e-7     4.25581e-8  1.92371e-7  8.00048e-8\n",
        "  \u22ee                                   \u22f1                                    \n",
        "  1.15848e-7  1.63285e-7  1.47915e-7     9.00008e-8  1.75732e-7  6.28788e-8\n",
        "  1.57867e-7  1.40949e-7  9.83978e-8     9.71688e-8  1.20254e-7  1.48186e-7\n",
        "  1.55689e-7  1.34969e-7  1.0933e-7   \u2026  1.43402e-7  1.17606e-7  1.0036e-7 \n",
        "  1.44084e-7  6.94305e-8  1.16162e-7     8.75181e-8  7.16176e-8  1.23466e-7\n",
        "  1.18405e-7  1.95552e-7  1.45936e-7     1.43585e-7  1.75562e-7  1.4804e-7 \n",
        "  1.65816e-7  9.85969e-8  2.00069e-7     1.6984e-7   8.43528e-8  1.32964e-7\n",
        "  1.07811e-7  1.71039e-7  1.47283e-7     1.62371e-7  1.03991e-7  1.03987e-7\n",
        "  2.01819e-7  1.29535e-7  2.1785e-7   \u2026  1.05485e-7  1.16194e-7  1.5188e-7 \n",
        "  1.81547e-7  1.49981e-7  9.34795e-8     1.05829e-7  1.31509e-7  1.41382e-7\n",
        "  1.18112e-7  1.31535e-7  1.156e-7       1.83557e-7  1.46671e-7  1.61472e-7\n",
        "  1.66789e-7  1.29276e-7  1.39377e-7     1.46687e-7  1.77651e-7  1.29826e-7\n",
        "  1.47497e-7  1.08389e-7  1.9013e-7      1.61473e-7  1.29806e-7  5.45284e-8"
       ]
      }
     ],
     "prompt_number": 51
    },
    {
     "cell_type": "code",
     "collapsed": false,
     "input": [
      "function DiffCovShooting(hSx, hSy, lambda, Ups, options)    \n",
      "    # process options    \n",
      "    maxIter = 2000\n",
      "    optTol = 1e-16\n",
      "    \n",
      "    #\n",
      "    p = size(hSx, 1)\n",
      "        \n",
      "    Delta = zeros(p, p)\n",
      "    A = zeros(p, p)\n",
      "    \n",
      "    iter = 1;\n",
      "    while iter < maxIter    \n",
      "        if mod(iter, 10) == 0\n",
      "            @show \"outer $iter\"\n",
      "        end\n",
      "    \n",
      "        fDone = true\n",
      "        for a=1:p\n",
      "            for b=a:p\n",
      "                if a==b\n",
      "                    # diagonal elements\n",
      "                    x0 = hSx[a,a]*hSy[a,a]/2\n",
      "                    x1 = A[a,a] - hSy[a,a] + hSx[a,a]\n",
      "                else\n",
      "                    # off-diagonal elements\n",
      "                    x0 = (hSx[a,a]*hSy[b,b] + hSx[b,b]*hSy[a,a])/2 + hSx[a,b]*hSy[a,b]\n",
      "                    x1 = A[a,b] + A[b,a] - 2*(hSy[a,b] - hSx[a,b])\n",
      "                end\n",
      "                tmp = SoftThreshold(-x1/x0/2 + Delta[a,b], lambda*Ups[a,b] / 2 / x0)\n",
      "                h = tmp - Delta[a,b]\n",
      "                Delta[a,b] = tmp\n",
      "                Delta[b,a] = tmp\n",
      "                if abs(h) > optTol\n",
      "                    fDone = false\n",
      "                end\n",
      "                for j=1:p\n",
      "                    for k=1:p\n",
      "                        A[j,k] = A[j,k] + h * (hSx[j,a]*hSy[b,k] + hSx[j,b]*hSy[a,k])\n",
      "                    end\n",
      "                end\n",
      "            end\n",
      "        end\n",
      "        \n",
      "        iter = iter + 1;\n",
      "        if fDone\n",
      "            break\n",
      "        end\n",
      "    end\n",
      "    Delta\n",
      "end\n"
     ],
     "language": "python",
     "metadata": {},
     "outputs": [
      {
       "metadata": {},
       "output_type": "pyout",
       "prompt_number": 55,
       "text": [
        "DiffCovShooting (generic function with 1 method)"
       ]
      }
     ],
     "prompt_number": 55
    },
    {
     "cell_type": "code",
     "collapsed": false,
     "input": [
      "@time solShoot = DiffCovShooting(hSx, hSy, lambda, ones(p,p), 1)"
     ],
     "language": "python",
     "metadata": {},
     "outputs": [
      {
       "output_type": "stream",
       "stream": "stdout",
       "text": [
        "elapsed time: 0."
       ]
      },
      {
       "output_type": "stream",
       "stream": "stdout",
       "text": [
        "06414532 seconds (1076360 bytes allocated)\n"
       ]
      },
      {
       "metadata": {},
       "output_type": "pyout",
       "prompt_number": 56,
       "text": [
        "30x30 Array{Float64,2}:\n",
        " 0.0       0.385681  0.0  0.0  0.0  0.0  \u2026  0.0  0.0  0.0  0.0  0.0  0.0  0.0\n",
        " 0.385681  0.0       0.0  0.0  0.0  0.0     0.0  0.0  0.0  0.0  0.0  0.0  0.0\n",
        " 0.0       0.0       0.0  0.0  0.0  0.0     0.0  0.0  0.0  0.0  0.0  0.0  0.0\n",
        " 0.0       0.0       0.0  0.0  0.0  0.0     0.0  0.0  0.0  0.0  0.0  0.0  0.0\n",
        " 0.0       0.0       0.0  0.0  0.0  0.0     0.0  0.0  0.0  0.0  0.0  0.0  0.0\n",
        " 0.0       0.0       0.0  0.0  0.0  0.0  \u2026  0.0  0.0  0.0  0.0  0.0  0.0  0.0\n",
        " 0.0       0.0       0.0  0.0  0.0  0.0     0.0  0.0  0.0  0.0  0.0  0.0  0.0\n",
        " 0.0       0.0       0.0  0.0  0.0  0.0     0.0  0.0  0.0  0.0  0.0  0.0  0.0\n",
        " 0.0       0.0       0.0  0.0  0.0  0.0     0.0  0.0  0.0  0.0  0.0  0.0  0.0\n",
        " 0.0       0.0       0.0  0.0  0.0  0.0     0.0  0.0  0.0  0.0  0.0  0.0  0.0\n",
        " 0.0       0.0       0.0  0.0  0.0  0.0  \u2026  0.0  0.0  0.0  0.0  0.0  0.0  0.0\n",
        " 0.0       0.0       0.0  0.0  0.0  0.0     0.0  0.0  0.0  0.0  0.0  0.0  0.0\n",
        " 0.0       0.0       0.0  0.0  0.0  0.0     0.0  0.0  0.0  0.0  0.0  0.0  0.0\n",
        " \u22ee                                  \u22ee    \u22f1            \u22ee                      \n",
        " 0.0       0.0       0.0  0.0  0.0  0.0     0.0  0.0  0.0  0.0  0.0  0.0  0.0\n",
        " 0.0       0.0       0.0  0.0  0.0  0.0     0.0  0.0  0.0  0.0  0.0  0.0  0.0\n",
        " 0.0       0.0       0.0  0.0  0.0  0.0  \u2026  0.0  0.0  0.0  0.0  0.0  0.0  0.0\n",
        " 0.0       0.0       0.0  0.0  0.0  0.0     0.0  0.0  0.0  0.0  0.0  0.0  0.0\n",
        " 0.0       0.0       0.0  0.0  0.0  0.0     0.0  0.0  0.0  0.0  0.0  0.0  0.0\n",
        " 0.0       0.0       0.0  0.0  0.0  0.0     0.0  0.0  0.0  0.0  0.0  0.0  0.0\n",
        " 0.0       0.0       0.0  0.0  0.0  0.0     0.0  0.0  0.0  0.0  0.0  0.0  0.0\n",
        " 0.0       0.0       0.0  0.0  0.0  0.0  \u2026  0.0  0.0  0.0  0.0  0.0  0.0  0.0\n",
        " 0.0       0.0       0.0  0.0  0.0  0.0     0.0  0.0  0.0  0.0  0.0  0.0  0.0\n",
        " 0.0       0.0       0.0  0.0  0.0  0.0     0.0  0.0  0.0  0.0  0.0  0.0  0.0\n",
        " 0.0       0.0       0.0  0.0  0.0  0.0     0.0  0.0  0.0  0.0  0.0  0.0  0.0\n",
        " 0.0       0.0       0.0  0.0  0.0  0.0     0.0  0.0  0.0  0.0  0.0  0.0  0.0"
       ]
      }
     ],
     "prompt_number": 56
    },
    {
     "cell_type": "code",
     "collapsed": false,
     "input": [
      "@show dot(vec(sol), kron(hSy,hSx)*vec(sol)) / 2 - trace((hSy-hSx)*sol) +  lambda * norm(vec(sol), 1)\n",
      "@show dot(vec(solShoot), kron(hSy,hSx)*vec(solShoot)) / 2 - trace((hSy-hSx)*solShoot) +  lambda * norm(vec(solShoot), 1)"
     ],
     "language": "python",
     "metadata": {},
     "outputs": [
      {
       "output_type": "stream",
       "stream": "stdout",
       "text": [
        "(dot(vec(sol),kron(hSy,hSx) * vec(sol)) / 2 - trace((hSy - hSx) * sol)) + lambda * norm(vec(sol),1) => -0.059344750225330783"
       ]
      },
      {
       "output_type": "stream",
       "stream": "stdout",
       "text": [
        "\n",
        "(dot(vec(solShoot),kron(hSy,hSx) * vec(solShoot)) / 2 - trace((hSy - hSx) * solShoot)) + lambda * norm(vec(solShoot),1) => -0.037540333499734346\n"
       ]
      },
      {
       "metadata": {},
       "output_type": "pyout",
       "prompt_number": 54,
       "text": [
        "-0.037540333499734346"
       ]
      }
     ],
     "prompt_number": 54
    },
    {
     "cell_type": "code",
     "collapsed": false,
     "input": [
      "maximum(maximum(abs(hSy*solShoot*hSx-(hSy-hSx)),1))"
     ],
     "language": "python",
     "metadata": {},
     "outputs": [
      {
       "metadata": {},
       "output_type": "pyout",
       "prompt_number": 63,
       "text": [
        "0.27239670594908283"
       ]
      }
     ],
     "prompt_number": 63
    },
    {
     "cell_type": "code",
     "collapsed": false,
     "input": [
      "tmp = hSx*solShoot*hSy-(hSy-hSx)"
     ],
     "language": "python",
     "metadata": {},
     "outputs": [
      {
       "metadata": {},
       "output_type": "pyout",
       "prompt_number": 65,
       "text": [
        "30x30 Array{Float64,2}:\n",
        "  0.272397     -0.127194     0.0553486   \u2026  -0.039433    -0.0163935 \n",
        " -0.172806      0.135842     0.0433034       0.0230796    0.0422527 \n",
        "  0.0857856     0.0738354   -0.140267       -0.00427558  -0.0655109 \n",
        "  0.0106127     0.0108476   -0.0314985      -0.0222255    0.0528732 \n",
        " -0.00574878   -0.0903721   -0.0294713       0.074196     0.0131065 \n",
        "  0.0102703    -0.045323    -0.00286374  \u2026   0.0134838    0.0342821 \n",
        "  0.0557318    -0.025564     0.0918936      -0.0872016    0.0240235 \n",
        "  0.0640496     0.0387978   -0.00624036      0.0038346    0.0257146 \n",
        " -0.0296143     0.0156478    0.076902       -0.0149691    0.0229476 \n",
        "  0.0235388     0.0669511   -0.0241533      -0.027234    -0.0483469 \n",
        "  0.0017959    -0.0245551   -0.0603091   \u2026   0.0133505   -0.0340015 \n",
        "  0.0727341     0.0625976   -0.0113087       0.0647781    0.00769806\n",
        " -0.0659407    -0.0515889    0.00310365     -0.0687595    0.0696253 \n",
        "  \u22ee                                      \u22f1                          \n",
        "  0.0261299    -0.0243875   -0.0141927      -0.0499777    0.0874933 \n",
        " -0.0233538    -0.00497634   0.048055        0.0214411   -0.0133532 \n",
        " -0.0128651     0.00981783   0.0337919   \u2026   0.0250192    0.0472915 \n",
        "  0.00468954    0.0817477    0.0270592       0.0770078    0.0189151 \n",
        "  0.0149839    -0.0651556   -0.0114366      -0.049659    -0.012128  \n",
        " -0.0223523     0.0512198   -0.0767755       0.0642798    0.00684911\n",
        "  0.0304011    -0.0379738   -0.0137741       0.0396753    0.0418084 \n",
        " -0.0717677     0.00470187  -0.0955325   \u2026   0.0258309   -0.0172725 \n",
        " -0.0536547    -0.0222083    0.0538838       0.00723819  -0.0035562 \n",
        "  0.0231474     0.00864047   0.0263113      -0.0133085   -0.0326042 \n",
        " -0.0341218     0.00895524  -0.00471253     -0.0521168    0.00954833\n",
        " -0.000645921   0.0424563   -0.066321        0.0101382    0.0950911 "
       ]
      }
     ],
     "prompt_number": 65
    },
    {
     "cell_type": "code",
     "collapsed": false,
     "input": [
      "inv(Sigmay)"
     ],
     "language": "python",
     "metadata": {},
     "outputs": [
      {
       "metadata": {},
       "output_type": "pyout",
       "prompt_number": 67,
       "text": [
        "30x30 Array{Float64,2}:\n",
        "  1.33333   -0.666667  0.0  0.0  0.0  \u2026  0.0  0.0  0.0  0.0  0.0  0.0  -0.0\n",
        " -0.666667   1.33333   0.0  0.0  0.0     0.0  0.0  0.0  0.0  0.0  0.0  -0.0\n",
        "  0.0        0.0       1.0  0.0  0.0     0.0  0.0  0.0  0.0  0.0  0.0  -0.0\n",
        "  0.0        0.0       0.0  1.0  0.0     0.0  0.0  0.0  0.0  0.0  0.0  -0.0\n",
        "  0.0        0.0       0.0  0.0  1.0     0.0  0.0  0.0  0.0  0.0  0.0  -0.0\n",
        "  0.0        0.0       0.0  0.0  0.0  \u2026  0.0  0.0  0.0  0.0  0.0  0.0  -0.0\n",
        "  0.0        0.0       0.0  0.0  0.0     0.0  0.0  0.0  0.0  0.0  0.0  -0.0\n",
        "  0.0        0.0       0.0  0.0  0.0     0.0  0.0  0.0  0.0  0.0  0.0  -0.0\n",
        "  0.0        0.0       0.0  0.0  0.0     0.0  0.0  0.0  0.0  0.0  0.0  -0.0\n",
        "  0.0        0.0       0.0  0.0  0.0     0.0  0.0  0.0  0.0  0.0  0.0  -0.0\n",
        "  0.0        0.0       0.0  0.0  0.0  \u2026  0.0  0.0  0.0  0.0  0.0  0.0  -0.0\n",
        "  0.0        0.0       0.0  0.0  0.0     0.0  0.0  0.0  0.0  0.0  0.0  -0.0\n",
        "  0.0        0.0       0.0  0.0  0.0     0.0  0.0  0.0  0.0  0.0  0.0  -0.0\n",
        "  \u22ee                                   \u22f1            \u22ee                       \n",
        "  0.0        0.0       0.0  0.0  0.0     0.0  0.0  0.0  0.0  0.0  0.0  -0.0\n",
        "  0.0        0.0       0.0  0.0  0.0     0.0  0.0  0.0  0.0  0.0  0.0  -0.0\n",
        "  0.0        0.0       0.0  0.0  0.0  \u2026  0.0  0.0  0.0  0.0  0.0  0.0  -0.0\n",
        "  0.0        0.0       0.0  0.0  0.0     0.0  0.0  0.0  0.0  0.0  0.0  -0.0\n",
        "  0.0        0.0       0.0  0.0  0.0     0.0  0.0  0.0  0.0  0.0  0.0  -0.0\n",
        "  0.0        0.0       0.0  0.0  0.0     1.0  0.0  0.0  0.0  0.0  0.0  -0.0\n",
        "  0.0        0.0       0.0  0.0  0.0     0.0  1.0  0.0  0.0  0.0  0.0  -0.0\n",
        "  0.0        0.0       0.0  0.0  0.0  \u2026  0.0  0.0  1.0  0.0  0.0  0.0  -0.0\n",
        "  0.0        0.0       0.0  0.0  0.0     0.0  0.0  0.0  1.0  0.0  0.0  -0.0\n",
        "  0.0        0.0       0.0  0.0  0.0     0.0  0.0  0.0  0.0  1.0  0.0  -0.0\n",
        "  0.0        0.0       0.0  0.0  0.0     0.0  0.0  0.0  0.0  0.0  1.0  -0.0\n",
        "  0.0        0.0       0.0  0.0  0.0     0.0  0.0  0.0  0.0  0.0  0.0   1.0"
       ]
      }
     ],
     "prompt_number": 67
    },
    {
     "cell_type": "code",
     "collapsed": false,
     "input": [],
     "language": "python",
     "metadata": {},
     "outputs": []
    }
   ],
   "metadata": {}
  }
 ]
}